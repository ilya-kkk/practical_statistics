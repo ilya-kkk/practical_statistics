{
 "cells": [
  {
   "cell_type": "markdown",
   "id": "fa12123b-6339-4dbb-916b-febbe54e767f",
   "metadata": {},
   "source": [
    "<h1>Примеры из книги \"Практическая статистика для специалистов Data Science\"</h1>"
   ]
  },
  {
   "cell_type": "markdown",
   "id": "f758395a-d11c-48c3-ab61-cd013cff944a",
   "metadata": {},
   "source": [
    "https://github.com/gedeck/practical-statistics-for-data-scientists"
   ]
  },
  {
   "cell_type": "code",
   "execution_count": 1,
   "id": "a6ab855a-af81-40b7-adc1-1f8344154eda",
   "metadata": {
    "collapsed": true,
    "jupyter": {
     "outputs_hidden": true
    },
    "scrolled": true
   },
   "outputs": [
    {
     "name": "stdout",
     "output_type": "stream",
     "text": [
      "Requirement already satisfied: numpy in /home/user/jupyter_env/env/lib/python3.10/site-packages (2.1.3)\n",
      "Requirement already satisfied: pandas in /home/user/jupyter_env/env/lib/python3.10/site-packages (2.2.3)\n",
      "Requirement already satisfied: matplotlib in /home/user/jupyter_env/env/lib/python3.10/site-packages (3.9.2)\n",
      "Requirement already satisfied: scipy in /home/user/jupyter_env/env/lib/python3.10/site-packages (1.14.1)\n",
      "Requirement already satisfied: statsmodels in /home/user/jupyter_env/env/lib/python3.10/site-packages (0.14.4)\n",
      "Requirement already satisfied: wquantiles in /home/user/jupyter_env/env/lib/python3.10/site-packages (0.6)\n",
      "Requirement already satisfied: seaborn in /home/user/jupyter_env/env/lib/python3.10/site-packages (0.13.2)\n",
      "Requirement already satisfied: python-dateutil>=2.8.2 in /home/user/jupyter_env/env/lib/python3.10/site-packages (from pandas) (2.9.0.post0)\n",
      "Requirement already satisfied: pytz>=2020.1 in /home/user/jupyter_env/env/lib/python3.10/site-packages (from pandas) (2024.2)\n",
      "Requirement already satisfied: tzdata>=2022.7 in /home/user/jupyter_env/env/lib/python3.10/site-packages (from pandas) (2024.2)\n",
      "Requirement already satisfied: contourpy>=1.0.1 in /home/user/jupyter_env/env/lib/python3.10/site-packages (from matplotlib) (1.3.1)\n",
      "Requirement already satisfied: cycler>=0.10 in /home/user/jupyter_env/env/lib/python3.10/site-packages (from matplotlib) (0.12.1)\n",
      "Requirement already satisfied: fonttools>=4.22.0 in /home/user/jupyter_env/env/lib/python3.10/site-packages (from matplotlib) (4.55.0)\n",
      "Requirement already satisfied: kiwisolver>=1.3.1 in /home/user/jupyter_env/env/lib/python3.10/site-packages (from matplotlib) (1.4.7)\n",
      "Requirement already satisfied: packaging>=20.0 in /home/user/jupyter_env/env/lib/python3.10/site-packages (from matplotlib) (24.2)\n",
      "Requirement already satisfied: pillow>=8 in /home/user/jupyter_env/env/lib/python3.10/site-packages (from matplotlib) (11.0.0)\n",
      "Requirement already satisfied: pyparsing>=2.3.1 in /home/user/jupyter_env/env/lib/python3.10/site-packages (from matplotlib) (3.2.0)\n",
      "Requirement already satisfied: patsy>=0.5.6 in /home/user/jupyter_env/env/lib/python3.10/site-packages (from statsmodels) (1.0.1)\n",
      "Requirement already satisfied: six>=1.5 in /home/user/jupyter_env/env/lib/python3.10/site-packages (from python-dateutil>=2.8.2->pandas) (1.16.0)\n"
     ]
    }
   ],
   "source": [
    "!pip install numpy pandas matplotlib scipy statsmodels wquantiles seaborn"
   ]
  },
  {
   "cell_type": "code",
   "execution_count": 2,
   "id": "528724f3-7a2b-451b-8119-23fa4ca2a479",
   "metadata": {},
   "outputs": [],
   "source": [
    "%matplotlib inline\n",
    "\n",
    "from pathlib import Path\n",
    "\n",
    "import pandas as pd\n",
    "import numpy as np\n",
    "from scipy.stats import trim_mean\n",
    "from statsmodels import robust\n",
    "import wquantiles\n",
    "\n",
    "import seaborn as sns\n",
    "import matplotlib.pylab as plt"
   ]
  },
  {
   "cell_type": "code",
   "execution_count": 3,
   "id": "9433b083-acb1-40f8-81dd-3930b9cf42ac",
   "metadata": {},
   "outputs": [],
   "source": [
    "try:\n",
    "    import common\n",
    "    DATA = common.dataDirectory()\n",
    "except ImportError:\n",
    "    DATA = Path().resolve() / 'data'"
   ]
  },
  {
   "cell_type": "code",
   "execution_count": 4,
   "id": "3d834d9c-ed6f-48e5-823a-151b251f0706",
   "metadata": {},
   "outputs": [],
   "source": [
    "AIRLINE_STATS_CSV = DATA / 'airline_stats.csv'\n",
    "KC_TAX_CSV = DATA / 'kc_tax.csv.gz'\n",
    "LC_LOANS_CSV = DATA / 'lc_loans.csv'\n",
    "AIRPORT_DELAYS_CSV = DATA / 'dfw_airline.csv'\n",
    "SP500_DATA_CSV = DATA / 'sp500_data.csv.gz'\n",
    "SP500_SECTORS_CSV = DATA / 'sp500_sectors.csv'\n",
    "STATE_CSV = DATA / 'state.csv'"
   ]
  },
  {
   "cell_type": "markdown",
   "id": "439bd861-87e9-4d1c-9972-be29a0c68199",
   "metadata": {},
   "source": [
    "<h2>Оценки центрального положения</h2>"
   ]
  },
  {
   "cell_type": "markdown",
   "id": "dddeff06-7f36-4a96-8984-30aa820da5d8",
   "metadata": {},
   "source": [
    "<h3>Пример: средние оценки числености населения и уровня убийств</h3>"
   ]
  },
  {
   "cell_type": "code",
   "execution_count": 5,
   "id": "875b5786-125d-47b2-969a-4f1dc8ce5b5a",
   "metadata": {},
   "outputs": [
    {
     "name": "stdout",
     "output_type": "stream",
     "text": [
      "         State  Population  Murder.Rate Abbreviation\n",
      "0      Alabama     4779736          5.7           AL\n",
      "1       Alaska      710231          5.6           AK\n",
      "2      Arizona     6392017          4.7           AZ\n",
      "3     Arkansas     2915918          5.6           AR\n",
      "4   California    37253956          4.4           CA\n",
      "5     Colorado     5029196          2.8           CO\n",
      "6  Connecticut     3574097          2.4           CT\n",
      "7     Delaware      897934          5.8           DE\n"
     ]
    }
   ],
   "source": [
    "# Table 1-2\n",
    "state = pd.read_csv(STATE_CSV)\n",
    "print(state.head(8))"
   ]
  },
  {
   "cell_type": "code",
   "execution_count": 9,
   "id": "f3027cba-b0bf-4190-aaeb-818e9fbe6668",
   "metadata": {},
   "outputs": [
    {
     "name": "stdout",
     "output_type": "stream",
     "text": [
      "6162876.3\n"
     ]
    }
   ],
   "source": [
    "print(state['Population'].mean()) # среднее"
   ]
  },
  {
   "cell_type": "code",
   "execution_count": 8,
   "id": "bf7e4238-a12f-4b59-af18-001b9c7ce211",
   "metadata": {},
   "outputs": [
    {
     "name": "stdout",
     "output_type": "stream",
     "text": [
      "4783697.125\n"
     ]
    }
   ],
   "source": [
    "print(trim_mean(state['Population'], 0.1)) # усеченное среднее "
   ]
  },
  {
   "cell_type": "code",
   "execution_count": 10,
   "id": "a173ef93-1784-4c50-8222-4cb353ee2183",
   "metadata": {},
   "outputs": [
    {
     "name": "stdout",
     "output_type": "stream",
     "text": [
      "4436369.5\n"
     ]
    }
   ],
   "source": [
    "print(state['Population'].median()) # медиана"
   ]
  },
  {
   "cell_type": "code",
   "execution_count": 11,
   "id": "52577c8c-f56d-4cec-9e16-729a8a545463",
   "metadata": {},
   "outputs": [
    {
     "name": "stdout",
     "output_type": "stream",
     "text": [
      "4.445833981123393\n"
     ]
    }
   ],
   "source": [
    "print(np.average(state['Murder.Rate'], weights=state['Population'])) # взвешенное среднее "
   ]
  },
  {
   "cell_type": "code",
   "execution_count": 12,
   "id": "4f3eb4b6-25ea-45f4-8d8c-f93438fd6de0",
   "metadata": {},
   "outputs": [
    {
     "name": "stdout",
     "output_type": "stream",
     "text": [
      "4.4\n"
     ]
    }
   ],
   "source": [
    "print(wquantiles.median(state['Murder.Rate'], weights=state['Population'])) # взвешанная медиана "
   ]
  },
  {
   "cell_type": "markdown",
   "id": "c035f9d5-59be-4593-9cc1-a613c78435f4",
   "metadata": {},
   "source": [
    "<b>Ключевые идеи для оценок центрального положения</b>\n",
    "<ul>\n",
    "<li>Базовой метрикой централього положения является среднее, но оно может быть чувствительным к предельным значениям (выбросам)</li>\n",
    "<li>Медиана, среднее усеченное являются более робасными</li>\n",
    "</ul>"
   ]
  },
  {
   "cell_type": "markdown",
   "id": "089be147-593d-4906-bba2-98a2451d4191",
   "metadata": {},
   "source": [
    "<h2>Оценки вариабельности</h2>"
   ]
  },
  {
   "cell_type": "code",
   "execution_count": 13,
   "id": "359a0e69-f869-4bbf-9847-feaf1ef32bb2",
   "metadata": {},
   "outputs": [
    {
     "name": "stdout",
     "output_type": "stream",
     "text": [
      "6848235.347401142\n"
     ]
    }
   ],
   "source": [
    "print(state['Population'].std()) # стандартное откланение "
   ]
  },
  {
   "cell_type": "code",
   "execution_count": 14,
   "id": "d87cbdcb-acc3-4d36-a6e0-2bde0cca96b4",
   "metadata": {},
   "outputs": [
    {
     "name": "stdout",
     "output_type": "stream",
     "text": [
      "4847308.0\n"
     ]
    }
   ],
   "source": [
    "print(state['Population'].quantile(0.75) - state['Population'].quantile(0.25)) # межквартильный размах IQR (interquartile range)"
   ]
  },
  {
   "cell_type": "code",
   "execution_count": 17,
   "id": "5f84e85c-862b-4ca4-b41e-4ddc3cb22edb",
   "metadata": {},
   "outputs": [
    {
     "name": "stdout",
     "output_type": "stream",
     "text": [
      "3849876.1459979336\n"
     ]
    }
   ],
   "source": [
    "print(robust.scale.mad(state['Population'])) # медианное абсолютное отклонение от медианы MAD (mediane absolute deviation)"
   ]
  },
  {
   "cell_type": "markdown",
   "id": "99b84049-9fad-453c-8c2f-aa2fa44211d5",
   "metadata": {},
   "source": [
    "<b>Ключевые идеи для оценок вариабельности</b>\n",
    "<ul>\n",
    "<li>Дисперсия и стандартное отклонение - наиболее широко распространенные и в рутинном порядке регистрируемые статистикиоценки вариабельности, обе они чувствительны к выбросам</li>\n",
    "<li>Более робасные метрики - среднее абсолютное отклонение, медианное абсолютное отклонение от медианы MAD, и процентили (квантили) </li>\n",
    "<li></li>\n",
    "</ul>"
   ]
  },
  {
   "cell_type": "markdown",
   "id": "e103bd07-6dd6-4661-bec7-81d460ebfc77",
   "metadata": {},
   "source": [
    "<h2>Разведование распределения данных</h2>"
   ]
  },
  {
   "cell_type": "code",
   "execution_count": 20,
   "id": "98d62290-96e9-460c-90d5-eb496743322e",
   "metadata": {},
   "outputs": [
    {
     "name": "stdout",
     "output_type": "stream",
     "text": [
      "0.05    1.600\n",
      "0.25    2.425\n",
      "0.50    4.000\n",
      "0.75    5.550\n",
      "0.95    6.510\n",
      "Name: Murder.Rate, dtype: float64\n"
     ]
    }
   ],
   "source": [
    "print(state['Murder.Rate'].quantile([0.05, 0.25, 0.5, 0.75, 0.95])) # процентили"
   ]
  },
  {
   "cell_type": "markdown",
   "id": "9fb05eb8-f644-4b64-ad84-1607332256e6",
   "metadata": {},
   "source": [
    "<b>Коробчатая диаграмма </b>"
   ]
  },
  {
   "cell_type": "code",
   "execution_count": 22,
   "id": "ce726800-0fa4-4521-b6f5-7b99e7a94dc4",
   "metadata": {},
   "outputs": [
    {
     "data": {
      "image/png": "[encoded data removed]",
      "text/plain": [
       "<Figure size 300x400 with 1 Axes>"
      ]
     },
     "metadata": {},
     "output_type": "display_data"
    }
   ],
   "source": [
    "ax = (state['Population']/1_000_000).plot.box(figsize=(3, 4))\n",
    "ax.set_ylabel('Население млн чел ')\n",
    "\n",
    "plt.tight_layout()\n",
    "plt.show()"
   ]
  },
  {
   "cell_type": "code",
   "execution_count": null,
   "id": "7dc37e36-17fd-4691-a5b9-baed8c151bb7",
   "metadata": {},
   "outputs": [],
   "source": []
  }
 ],
 "metadata": {
  "kernelspec": {
   "display_name": "Python 3 (ipykernel)",
   "language": "python",
   "name": "python3"
  },
  "language_info": {
   "codemirror_mode": {
    "name": "ipython",
    "version": 3
   },
   "file_extension": ".py",
   "mimetype": "text/x-python",
   "name": "python",
   "nbconvert_exporter": "python",
   "pygments_lexer": "ipython3",
   "version": "3.10.12"
  }
 },
 "nbformat": 4,
 "nbformat_minor": 5
}
