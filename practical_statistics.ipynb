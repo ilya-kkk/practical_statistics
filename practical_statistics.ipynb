{
 "cells": [
  {
   "cell_type": "markdown",
   "id": "fa12123b-6339-4dbb-916b-febbe54e767f",
   "metadata": {},
   "source": [
    "<h1>Конспект книги \"Практическая статистика для специалистов Data Science\"</h1>"
   ]
  },
  {
   "cell_type": "markdown",
   "id": "f758395a-d11c-48c3-ab61-cd013cff944a",
   "metadata": {},
   "source": [
    "https://github.com/gedeck/practical-statistics-for-data-scientists"
   ]
  },
  {
   "cell_type": "code",
   "execution_count": 1,
   "id": "a6ab855a-af81-40b7-adc1-1f8344154eda",
   "metadata": {
    "collapsed": true,
    "jupyter": {
     "outputs_hidden": true
    },
    "scrolled": true
   },
   "outputs": [
    {
     "name": "stdout",
     "output_type": "stream",
     "text": [
      "Requirement already satisfied: numpy in /home/user/jupyter_env/env/lib/python3.10/site-packages (2.1.3)\n",
      "Requirement already satisfied: pandas in /home/user/jupyter_env/env/lib/python3.10/site-packages (2.2.3)\n",
      "Requirement already satisfied: matplotlib in /home/user/jupyter_env/env/lib/python3.10/site-packages (3.9.2)\n",
      "Requirement already satisfied: scipy in /home/user/jupyter_env/env/lib/python3.10/site-packages (1.14.1)\n",
      "Requirement already satisfied: statsmodels in /home/user/jupyter_env/env/lib/python3.10/site-packages (0.14.4)\n",
      "Requirement already satisfied: wquantiles in /home/user/jupyter_env/env/lib/python3.10/site-packages (0.6)\n",
      "Requirement already satisfied: seaborn in /home/user/jupyter_env/env/lib/python3.10/site-packages (0.13.2)\n",
      "Requirement already satisfied: python-dateutil>=2.8.2 in /home/user/jupyter_env/env/lib/python3.10/site-packages (from pandas) (2.9.0.post0)\n",
      "Requirement already satisfied: pytz>=2020.1 in /home/user/jupyter_env/env/lib/python3.10/site-packages (from pandas) (2024.2)\n",
      "Requirement already satisfied: tzdata>=2022.7 in /home/user/jupyter_env/env/lib/python3.10/site-packages (from pandas) (2024.2)\n",
      "Requirement already satisfied: contourpy>=1.0.1 in /home/user/jupyter_env/env/lib/python3.10/site-packages (from matplotlib) (1.3.1)\n",
      "Requirement already satisfied: cycler>=0.10 in /home/user/jupyter_env/env/lib/python3.10/site-packages (from matplotlib) (0.12.1)\n",
      "Requirement already satisfied: fonttools>=4.22.0 in /home/user/jupyter_env/env/lib/python3.10/site-packages (from matplotlib) (4.55.0)\n",
      "Requirement already satisfied: kiwisolver>=1.3.1 in /home/user/jupyter_env/env/lib/python3.10/site-packages (from matplotlib) (1.4.7)\n",
      "Requirement already satisfied: packaging>=20.0 in /home/user/jupyter_env/env/lib/python3.10/site-packages (from matplotlib) (24.2)\n",
      "Requirement already satisfied: pillow>=8 in /home/user/jupyter_env/env/lib/python3.10/site-packages (from matplotlib) (11.0.0)\n",
      "Requirement already satisfied: pyparsing>=2.3.1 in /home/user/jupyter_env/env/lib/python3.10/site-packages (from matplotlib) (3.2.0)\n",
      "Requirement already satisfied: patsy>=0.5.6 in /home/user/jupyter_env/env/lib/python3.10/site-packages (from statsmodels) (1.0.1)\n",
      "Requirement already satisfied: six>=1.5 in /home/user/jupyter_env/env/lib/python3.10/site-packages (from python-dateutil>=2.8.2->pandas) (1.16.0)\n"
     ]
    }
   ],
   "source": [
    "!pip install numpy pandas matplotlib scipy statsmodels wquantiles seaborn"
   ]
  },
  {
   "cell_type": "code",
   "execution_count": 2,
   "id": "528724f3-7a2b-451b-8119-23fa4ca2a479",
   "metadata": {},
   "outputs": [],
   "source": [
    "%matplotlib inline\n",
    "\n",
    "from pathlib import Path\n",
    "\n",
    "import pandas as pd\n",
    "import numpy as np\n",
    "from scipy.stats import trim_mean\n",
    "from statsmodels import robust\n",
    "import wquantiles\n",
    "\n",
    "import seaborn as sns\n",
    "import matplotlib.pylab as plt"
   ]
  },
  {
   "cell_type": "code",
   "execution_count": 3,
   "id": "9433b083-acb1-40f8-81dd-3930b9cf42ac",
   "metadata": {},
   "outputs": [],
   "source": [
    "try:\n",
    "    import common\n",
    "    DATA = common.dataDirectory()\n",
    "except ImportError:\n",
    "    DATA = Path().resolve() / 'data'"
   ]
  },
  {
   "cell_type": "code",
   "execution_count": 4,
   "id": "3d834d9c-ed6f-48e5-823a-151b251f0706",
   "metadata": {},
   "outputs": [],
   "source": [
    "AIRLINE_STATS_CSV = DATA / 'airline_stats.csv'\n",
    "KC_TAX_CSV = DATA / 'kc_tax.csv.gz'\n",
    "LC_LOANS_CSV = DATA / 'lc_loans.csv'\n",
    "AIRPORT_DELAYS_CSV = DATA / 'dfw_airline.csv'\n",
    "SP500_DATA_CSV = DATA / 'sp500_data.csv.gz'\n",
    "SP500_SECTORS_CSV = DATA / 'sp500_sectors.csv'\n",
    "STATE_CSV = DATA / 'state.csv'"
   ]
  },
  {
   "cell_type": "markdown",
   "id": "439bd861-87e9-4d1c-9972-be29a0c68199",
   "metadata": {},
   "source": [
    "<h2>Оценки центрального положения</h2>"
   ]
  },
  {
   "cell_type": "markdown",
   "id": "dddeff06-7f36-4a96-8984-30aa820da5d8",
   "metadata": {},
   "source": [
    "<h3>Пример: средние оценки числености населения и уровня убийств</h3>"
   ]
  },
  {
   "cell_type": "code",
   "execution_count": 5,
   "id": "875b5786-125d-47b2-969a-4f1dc8ce5b5a",
   "metadata": {},
   "outputs": [
    {
     "name": "stdout",
     "output_type": "stream",
     "text": [
      "         State  Population  Murder.Rate Abbreviation\n",
      "0      Alabama     4779736          5.7           AL\n",
      "1       Alaska      710231          5.6           AK\n",
      "2      Arizona     6392017          4.7           AZ\n",
      "3     Arkansas     2915918          5.6           AR\n",
      "4   California    37253956          4.4           CA\n",
      "5     Colorado     5029196          2.8           CO\n",
      "6  Connecticut     3574097          2.4           CT\n",
      "7     Delaware      897934          5.8           DE\n"
     ]
    }
   ],
   "source": [
    "# Table 1-2\n",
    "state = pd.read_csv(STATE_CSV)\n",
    "print(state.head(8))"
   ]
  },
  {
   "cell_type": "code",
   "execution_count": 9,
   "id": "f3027cba-b0bf-4190-aaeb-818e9fbe6668",
   "metadata": {},
   "outputs": [
    {
     "name": "stdout",
     "output_type": "stream",
     "text": [
      "6162876.3\n"
     ]
    }
   ],
   "source": [
    "print(state['Population'].mean()) # среднее"
   ]
  },
  {
   "cell_type": "code",
   "execution_count": 8,
   "id": "bf7e4238-a12f-4b59-af18-001b9c7ce211",
   "metadata": {},
   "outputs": [
    {
     "name": "stdout",
     "output_type": "stream",
     "text": [
      "4783697.125\n"
     ]
    }
   ],
   "source": [
    "print(trim_mean(state['Population'], 0.1)) # усеченное среднее "
   ]
  },
  {
   "cell_type": "code",
   "execution_count": 10,
   "id": "a173ef93-1784-4c50-8222-4cb353ee2183",
   "metadata": {},
   "outputs": [
    {
     "name": "stdout",
     "output_type": "stream",
     "text": [
      "4436369.5\n"
     ]
    }
   ],
   "source": [
    "print(state['Population'].median()) # медиана"
   ]
  },
  {
   "cell_type": "code",
   "execution_count": 11,
   "id": "52577c8c-f56d-4cec-9e16-729a8a545463",
   "metadata": {},
   "outputs": [
    {
     "name": "stdout",
     "output_type": "stream",
     "text": [
      "4.445833981123393\n"
     ]
    }
   ],
   "source": [
    "print(np.average(state['Murder.Rate'], weights=state['Population'])) # взвешенное среднее "
   ]
  },
  {
   "cell_type": "code",
   "execution_count": 12,
   "id": "4f3eb4b6-25ea-45f4-8d8c-f93438fd6de0",
   "metadata": {},
   "outputs": [
    {
     "name": "stdout",
     "output_type": "stream",
     "text": [
      "4.4\n"
     ]
    }
   ],
   "source": [
    "print(wquantiles.median(state['Murder.Rate'], weights=state['Population'])) # взвешанная медиана "
   ]
  },
  {
   "cell_type": "markdown",
   "id": "c035f9d5-59be-4593-9cc1-a613c78435f4",
   "metadata": {},
   "source": [
    "<b>Ключевые идеи для оценок центрального положения</b>\n",
    "<ul>\n",
    "<li>Базовой метрикой централього положения является среднее, но оно может быть чувствительным к предельным значениям (выбросам)</li>\n",
    "<li>Медиана, среднее усеченное являются более робасными</li>\n",
    "</ul>"
   ]
  },
  {
   "cell_type": "markdown",
   "id": "089be147-593d-4906-bba2-98a2451d4191",
   "metadata": {},
   "source": [
    "<h2>Оценки вариабельности</h2>"
   ]
  },
  {
   "cell_type": "code",
   "execution_count": 13,
   "id": "359a0e69-f869-4bbf-9847-feaf1ef32bb2",
   "metadata": {},
   "outputs": [
    {
     "name": "stdout",
     "output_type": "stream",
     "text": [
      "6848235.347401142\n"
     ]
    }
   ],
   "source": [
    "print(state['Population'].std()) # стандартное откланение "
   ]
  },
  {
   "cell_type": "code",
   "execution_count": 14,
   "id": "d87cbdcb-acc3-4d36-a6e0-2bde0cca96b4",
   "metadata": {},
   "outputs": [
    {
     "name": "stdout",
     "output_type": "stream",
     "text": [
      "4847308.0\n"
     ]
    }
   ],
   "source": [
    "print(state['Population'].quantile(0.75) - state['Population'].quantile(0.25)) # межквартильный размах IQR (interquartile range)"
   ]
  },
  {
   "cell_type": "code",
   "execution_count": 17,
   "id": "5f84e85c-862b-4ca4-b41e-4ddc3cb22edb",
   "metadata": {},
   "outputs": [
    {
     "name": "stdout",
     "output_type": "stream",
     "text": [
      "3849876.1459979336\n"
     ]
    }
   ],
   "source": [
    "print(robust.scale.mad(state['Population'])) # медианное абсолютное отклонение от медианы MAD (mediane absolute deviation)"
   ]
  },
  {
   "cell_type": "markdown",
   "id": "99b84049-9fad-453c-8c2f-aa2fa44211d5",
   "metadata": {},
   "source": [
    "<b>Ключевые идеи для оценок вариабельности</b>\n",
    "<ul>\n",
    "<li>Дисперсия и стандартное отклонение - наиболее широко распространенные и в рутинном порядке регистрируемые статистикиоценки вариабельности, обе они чувствительны к выбросам</li>\n",
    "<li>Более робасные метрики - среднее абсолютное отклонение, медианное абсолютное отклонение от медианы MAD, и процентили (квантили) </li>\n",
    "<li></li>\n",
    "</ul>"
   ]
  },
  {
   "cell_type": "markdown",
   "id": "e103bd07-6dd6-4661-bec7-81d460ebfc77",
   "metadata": {},
   "source": [
    "<h2>Разведование распределения данных</h2>"
   ]
  },
  {
   "cell_type": "code",
   "execution_count": 20,
   "id": "98d62290-96e9-460c-90d5-eb496743322e",
   "metadata": {},
   "outputs": [
    {
     "name": "stdout",
     "output_type": "stream",
     "text": [
      "0.05    1.600\n",
      "0.25    2.425\n",
      "0.50    4.000\n",
      "0.75    5.550\n",
      "0.95    6.510\n",
      "Name: Murder.Rate, dtype: float64\n"
     ]
    }
   ],
   "source": [
    "print(state['Murder.Rate'].quantile([0.05, 0.25, 0.5, 0.75, 0.95])) # процентили"
   ]
  },
  {
   "cell_type": "markdown",
   "id": "9fb05eb8-f644-4b64-ad84-1607332256e6",
   "metadata": {},
   "source": [
    "<h4>Коробчатая диаграмма </h4>"
   ]
  },
  {
   "cell_type": "code",
   "execution_count": 23,
   "id": "ce726800-0fa4-4521-b6f5-7b99e7a94dc4",
   "metadata": {},
   "outputs": [
    {
     "data": {
      "image/png": "[encoded data removed]",
      "text/plain": [
       "<Figure size 300x400 with 1 Axes>"
      ]
     },
     "metadata": {},
     "output_type": "display_data"
    }
   ],
   "source": [
    "ax = (state['Population']/1_000_000).plot.box(figsize=(3, 4))\n",
    "ax.set_ylabel('Население млн чел ')\n",
    "\n",
    "plt.tight_layout()\n",
    "plt.show()"
   ]
  },
  {
   "cell_type": "markdown",
   "id": "deeb7093-392a-411d-9351-adc2b2f449ea",
   "metadata": {},
   "source": [
    "<h4>Частотная таблица</h4>"
   ]
  },
  {
   "cell_type": "code",
   "execution_count": 28,
   "id": "cee7ef66-ac9f-457a-9685-3312736c40fd",
   "metadata": {},
   "outputs": [
    {
     "name": "stdout",
     "output_type": "stream",
     "text": [
      "                   BinRange  Count  \\\n",
      "0    (526935.67, 4232659.0]     24   \n",
      "1    (4232659.0, 7901692.0]     14   \n",
      "2   (7901692.0, 11570725.0]      6   \n",
      "3  (11570725.0, 15239758.0]      2   \n",
      "4  (15239758.0, 18908791.0]      1   \n",
      "5  (18908791.0, 22577824.0]      1   \n",
      "6  (22577824.0, 26246857.0]      1   \n",
      "7  (26246857.0, 29915890.0]      0   \n",
      "8  (29915890.0, 33584923.0]      0   \n",
      "9  (33584923.0, 37253956.0]      1   \n",
      "\n",
      "                                              States  \n",
      "0  WY,VT,ND,AK,SD,DE,MT,RI,NH,ME,HI,ID,NE,WV,NM,N...  \n",
      "1          KY,LA,SC,AL,CO,MN,WI,MD,MO,TN,AZ,IN,MA,WA  \n",
      "2                                  VA,NJ,NC,GA,MI,OH  \n",
      "3                                              PA,IL  \n",
      "4                                                 FL  \n",
      "5                                                 NY  \n",
      "6                                                 TX  \n",
      "7                                                     \n",
      "8                                                     \n",
      "9                                                 CA  \n"
     ]
    }
   ],
   "source": [
    "binnedPopulation.name = 'binnedPopulation'\n",
    "df = pd.concat([state, binnedPopulation], axis=1)\n",
    "df = df.sort_values(by='Population')\n",
    "\n",
    "groups = []\n",
    "for group, subset in df.groupby(by='binnedPopulation', observed=False):\n",
    "    groups.append({\n",
    "        'BinRange': group,\n",
    "        'Count': len(subset),\n",
    "        'States': ','.join(subset.Abbreviation)\n",
    "    })\n",
    "print(pd.DataFrame(groups))"
   ]
  },
  {
   "cell_type": "markdown",
   "id": "a7e09a5a-d04b-41d2-9921-a9450b1e7c3d",
   "metadata": {},
   "source": [
    "<h4>Гистограмма</h4>"
   ]
  },
  {
   "cell_type": "code",
   "execution_count": 29,
   "id": "acf3737e-e35e-4f66-88f7-527f6ae49b34",
   "metadata": {},
   "outputs": [
    {
     "data": {
      "image/png": "[encoded data removed]",
      "text/plain": [
       "<Figure size 400x400 with 1 Axes>"
      ]
     },
     "metadata": {},
     "output_type": "display_data"
    }
   ],
   "source": [
    "ax = (state['Population'] / 1_000_000).plot.hist(figsize=(4, 4))\n",
    "ax.set_xlabel('Population (millions)')\n",
    "\n",
    "plt.tight_layout()\n",
    "plt.show()"
   ]
  },
  {
   "cell_type": "markdown",
   "id": "9a513364-e518-45da-8b25-a15c2854fa0c",
   "metadata": {},
   "source": [
    "<h4>Графики и оценки плотности</h4>"
   ]
  },
  {
   "cell_type": "code",
   "execution_count": 30,
   "id": "8b2a347d-d7d9-48e4-aa4a-597419ff6291",
   "metadata": {},
   "outputs": [
    {
     "data": {
      "image/png": "[encoded data removed]",
      "text/plain": [
       "<Figure size 400x400 with 1 Axes>"
      ]
     },
     "metadata": {},
     "output_type": "display_data"
    }
   ],
   "source": [
    "ax = state['Murder.Rate'].plot.hist(density=True, xlim=[0, 12], \n",
    "                                    bins=range(1,12), figsize=(4, 4))\n",
    "state['Murder.Rate'].plot.density(ax=ax)\n",
    "ax.set_xlabel('Murder Rate (per 100,000)')\n",
    "\n",
    "plt.tight_layout()\n",
    "plt.show()"
   ]
  },
  {
   "cell_type": "markdown",
   "id": "71c9acef-1518-4d0f-86a6-9112ae45cccc",
   "metadata": {},
   "source": [
    "\n",
    "\n",
    "<h4>Ключевые идеи для исследования распределения данных</h4>\n",
    "<ul>\n",
    "<li>Частотная гистограмма показывает частоты на оси y и значения переменных — на оси x; она дает визуальное представление о распределении данных.</li>\n",
    "<li>Частотная таблица является табличной версией расчета частот, которые можно найти на гистограмме.</li>\n",
    "<li>Коробчатая диаграмма — диаграмма, в которой верх и низ коробки находятся соответственно в 75-м и 25-м процентилях — также дает быстрое представление о распределении данных; она часто используется на парных графиках с целью сравнения распределений.</li>\n",
    "<li>График плотности — это сглаженная версия гистограммы; для оценки графика на основе данных требуется специальная функция (разумеется, возможны многочисленные оценки). </li>\n",
    "</ul>"
   ]
  },
  {
   "cell_type": "code",
   "execution_count": null,
   "id": "044e8416-005c-4125-93cb-aa86b443d972",
   "metadata": {},
   "outputs": [],
   "source": []
  }
 ],
 "metadata": {
  "kernelspec": {
   "display_name": "Python 3 (ipykernel)",
   "language": "python",
   "name": "python3"
  },
  "language_info": {
   "codemirror_mode": {
    "name": "ipython",
    "version": 3
   },
   "file_extension": ".py",
   "mimetype": "text/x-python",
   "name": "python",
   "nbconvert_exporter": "python",
   "pygments_lexer": "ipython3",
   "version": "3.10.12"
  }
 },
 "nbformat": 4,
 "nbformat_minor": 5
}
